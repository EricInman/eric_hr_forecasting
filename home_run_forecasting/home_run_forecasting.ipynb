{
 "cells": [
  {
   "cell_type": "markdown",
   "id": "b64779e0-a51d-4a7a-ba11-bc680a96bd50",
   "metadata": {},
   "source": [
    "# Home Run Forecasting"
   ]
  },
  {
   "cell_type": "markdown",
   "id": "488dde01-a8fb-46d4-b6b3-810865bd18d9",
   "metadata": {},
   "source": [
    "# Packages"
   ]
  },
  {
   "cell_type": "code",
   "execution_count": 1,
   "id": "9faf78c8-a1f5-42e3-8398-369c7adc1de8",
   "metadata": {},
   "outputs": [],
   "source": [
    "import pandas as pd\n",
    "import numpy as np\n",
    "import matplotlib.pyplot as plt\n",
    "import os\n",
    "import math\n",
    "import seaborn as sns\n",
    "from pybaseball import batting_stats\n",
    "from xgboost import XGBRegressor, plot_importance\n",
    "from tqdm import tqdm\n",
    "\n",
    "from sklearn.linear_model import Ridge\n",
    "from sklearn.feature_selection import SequentialFeatureSelector\n",
    "from sklearn.model_selection import TimeSeriesSplit\n",
    "from sklearn.preprocessing import MinMaxScaler\n",
    "from sklearn.metrics import mean_squared_error, r2_score\n",
    "\n",
    "# allows progress bars for pandas dataframes\n",
    "tqdm.pandas()\n",
    "\n",
    "sns.set_style('darkgrid')"
   ]
  },
  {
   "cell_type": "markdown",
   "id": "e30d56e8-7572-4082-b39c-b80a1d39f1ee",
   "metadata": {},
   "source": [
    "# Utility Functions"
   ]
  },
  {
   "cell_type": "code",
   "execution_count": 2,
   "id": "9936107d-5ea2-40d8-80f5-7b11651fb24f",
   "metadata": {},
   "outputs": [],
   "source": [
    "def next_season(df: pd.DataFrame) -> pd.DataFrame:\n",
    "    \"\"\" \n",
    "    Appends next year's number of home runs to each entry \n",
    "    \"\"\"\n",
    "    df = df.sort_values(\"Season\")\n",
    "    df[\"Next_HR\"] = df[\"HR\"].shift(-1)\n",
    "    return df\n",
    "\n",
    "def player_history(df: pd.DataFrame) -> pd.DataFrame:\n",
    "    \"\"\"\n",
    "    Creates a few extra features that might be helpful. \n",
    "    \"player_season\" just assigns a number to each season that player played.\n",
    "    \"hr_corr\" creates correlations between #homeruns and groups of consecutive years.\n",
    "    \"hr_diff\" is the difference between this years homeruns and last years.\n",
    "    \"\"\"\n",
    "    df = df.sort_values(\"Season\")\n",
    "    \n",
    "    df[\"player_season\"] = range(0, df.shape[0])\n",
    "    df[\"hr_corr\"] = list(df[[\"player_season\", \"HR\"]].expanding().corr().loc[(slice(None), \"player_season\"), \"HR\"])\n",
    "    df[\"hr_corr\"].fillna(1, inplace=True)\n",
    "    \n",
    "    df[\"hr_diff\"] = df[\"HR\"] / df[\"HR\"].shift(1)\n",
    "    df[\"hr_diff\"].fillna(1, inplace=True)\n",
    "    \n",
    "    df[\"hr_diff\"][df[\"hr_diff\"] == np.inf] = 1\n",
    "    return df\n",
    "\n",
    "def group_averages(df: pd.DataFrame) -> pd.DataFrame:\n",
    "    \"\"\"\n",
    "    Divides individual homerun counts by the season average.\n",
    "    This number tells us if the player hit more homeruns than the average, which \n",
    "    might be useful. \n",
    "    \"\"\"\n",
    "    return df[\"HR\"] / df[\"HR\"].mean()\n",
    "\n",
    "def walk_forward(data: pd.DataFrame, model, m_features: list, start: int=5, step: int=1) -> pd.DataFrame:\n",
    "    \"\"\" \n",
    "    Performs walk-forward validation on the time-series data \n",
    "    \"\"\"\n",
    "    # The idea is to use 2002, 2003, ... 2006 to predict 2007, \n",
    "    # then use all those years plus 2007 to predict 2008 and so on.\n",
    "    all_preds = []\n",
    "    years = sorted(data[\"Season\"].unique())\n",
    "    \n",
    "    for i in tqdm(range(start, len(years), step)):\n",
    "        current_year = years[i]\n",
    "        \n",
    "        # split seasons into training and validation\n",
    "        train = data[data[\"Season\"] < current_year]\n",
    "        valid = data[data[\"Season\"] == current_year]\n",
    "        \n",
    "        # fit the model on training data\n",
    "        model.fit(train[m_features], train[\"Next_HR\"])\n",
    "        \n",
    "        # have the model predict the home runs for the validation set\n",
    "        preds = model.predict(valid[m_features])\n",
    "        \n",
    "        # store the predictions\n",
    "        preds = pd.Series(preds, index=valid.index)\n",
    "        \n",
    "        # combine predictions and actuals column-wise to compare\n",
    "        combined = pd.concat([valid[\"Next_HR\"], preds], axis=1)\n",
    "        combined.columns = [\"Actual\", \"Prediction\"]\n",
    "        \n",
    "        # append to all predictions\n",
    "        all_preds.append(combined)\n",
    "    \n",
    "    return pd.concat(all_preds)"
   ]
  },
  {
   "cell_type": "markdown",
   "id": "e7653950-8f51-4226-9c0d-16751240007a",
   "metadata": {},
   "source": [
    "# File Paths and Variables"
   ]
  },
  {
   "cell_type": "code",
   "execution_count": 3,
   "id": "336d90d1-9334-45a6-b2e8-ab76f5e7a2e6",
   "metadata": {},
   "outputs": [],
   "source": [
    "DATA_DIR = \"~/Downloads/data_science/baseball_projects/home_run_forecasting/\" \n",
    "BATTING_FN = \"batting_data.csv\"\n",
    "\n",
    "START_SEASON = 2002\n",
    "END_SEASON = 2022\n",
    "MIN_AT_BATS = 100"
   ]
  },
  {
   "cell_type": "code",
   "execution_count": 4,
   "id": "5d19841e-c03e-48ab-ad40-5cb84bdaddda",
   "metadata": {},
   "outputs": [],
   "source": [
    "# # use this cell for downloading the data from the internet\n",
    "# # it does take a little bit to run.\n",
    "# batting_data = batting_stats(START_SEASON, END_SEASON, qual=MIN_AT_BATS)\n",
    "# batting_data.to_csv(\"~/Downloads/data_science/baseball_projects/home_run_forecasting/batting_data.csv\", index=False)"
   ]
  },
  {
   "cell_type": "markdown",
   "id": "0bc2665d-5c54-4306-93a9-3274b781e44b",
   "metadata": {},
   "source": [
    "# Reading Data"
   ]
  },
  {
   "cell_type": "code",
   "execution_count": 5,
   "id": "07ce4b45-d2b6-418a-9030-00a1bef9faed",
   "metadata": {},
   "outputs": [
    {
     "data": {
      "text/plain": [
       "(9205, 320)"
      ]
     },
     "metadata": {},
     "output_type": "display_data"
    },
    {
     "data": {
      "text/html": [
       "<div>\n",
       "<style scoped>\n",
       "    .dataframe tbody tr th:only-of-type {\n",
       "        vertical-align: middle;\n",
       "    }\n",
       "\n",
       "    .dataframe tbody tr th {\n",
       "        vertical-align: top;\n",
       "    }\n",
       "\n",
       "    .dataframe thead th {\n",
       "        text-align: right;\n",
       "    }\n",
       "</style>\n",
       "<table border=\"1\" class=\"dataframe\">\n",
       "  <thead>\n",
       "    <tr style=\"text-align: right;\">\n",
       "      <th></th>\n",
       "      <th>IDfg</th>\n",
       "      <th>Season</th>\n",
       "      <th>Name</th>\n",
       "      <th>Team</th>\n",
       "      <th>Age</th>\n",
       "      <th>G</th>\n",
       "      <th>AB</th>\n",
       "      <th>PA</th>\n",
       "      <th>H</th>\n",
       "      <th>1B</th>\n",
       "      <th>...</th>\n",
       "      <th>maxEV</th>\n",
       "      <th>HardHit</th>\n",
       "      <th>HardHit%</th>\n",
       "      <th>Events</th>\n",
       "      <th>CStr%</th>\n",
       "      <th>CSW%</th>\n",
       "      <th>xBA</th>\n",
       "      <th>xSLG</th>\n",
       "      <th>xwOBA</th>\n",
       "      <th>L-WAR</th>\n",
       "    </tr>\n",
       "  </thead>\n",
       "  <tbody>\n",
       "    <tr>\n",
       "      <th>0</th>\n",
       "      <td>1109</td>\n",
       "      <td>2002</td>\n",
       "      <td>Barry Bonds</td>\n",
       "      <td>SFG</td>\n",
       "      <td>37</td>\n",
       "      <td>143</td>\n",
       "      <td>403</td>\n",
       "      <td>612</td>\n",
       "      <td>149</td>\n",
       "      <td>70</td>\n",
       "      <td>...</td>\n",
       "      <td>NaN</td>\n",
       "      <td>NaN</td>\n",
       "      <td>NaN</td>\n",
       "      <td>0</td>\n",
       "      <td>0.127</td>\n",
       "      <td>0.191</td>\n",
       "      <td>NaN</td>\n",
       "      <td>NaN</td>\n",
       "      <td>NaN</td>\n",
       "      <td>12.7</td>\n",
       "    </tr>\n",
       "    <tr>\n",
       "      <th>1</th>\n",
       "      <td>1109</td>\n",
       "      <td>2004</td>\n",
       "      <td>Barry Bonds</td>\n",
       "      <td>SFG</td>\n",
       "      <td>39</td>\n",
       "      <td>147</td>\n",
       "      <td>373</td>\n",
       "      <td>617</td>\n",
       "      <td>135</td>\n",
       "      <td>60</td>\n",
       "      <td>...</td>\n",
       "      <td>NaN</td>\n",
       "      <td>NaN</td>\n",
       "      <td>NaN</td>\n",
       "      <td>0</td>\n",
       "      <td>0.124</td>\n",
       "      <td>0.164</td>\n",
       "      <td>NaN</td>\n",
       "      <td>NaN</td>\n",
       "      <td>NaN</td>\n",
       "      <td>11.9</td>\n",
       "    </tr>\n",
       "    <tr>\n",
       "      <th>2</th>\n",
       "      <td>15640</td>\n",
       "      <td>2022</td>\n",
       "      <td>Aaron Judge</td>\n",
       "      <td>NYY</td>\n",
       "      <td>30</td>\n",
       "      <td>157</td>\n",
       "      <td>570</td>\n",
       "      <td>696</td>\n",
       "      <td>177</td>\n",
       "      <td>87</td>\n",
       "      <td>...</td>\n",
       "      <td>118.4</td>\n",
       "      <td>246.0</td>\n",
       "      <td>0.609</td>\n",
       "      <td>404</td>\n",
       "      <td>0.169</td>\n",
       "      <td>0.287</td>\n",
       "      <td>NaN</td>\n",
       "      <td>NaN</td>\n",
       "      <td>NaN</td>\n",
       "      <td>11.2</td>\n",
       "    </tr>\n",
       "    <tr>\n",
       "      <th>3</th>\n",
       "      <td>13611</td>\n",
       "      <td>2018</td>\n",
       "      <td>Mookie Betts</td>\n",
       "      <td>BOS</td>\n",
       "      <td>25</td>\n",
       "      <td>136</td>\n",
       "      <td>520</td>\n",
       "      <td>614</td>\n",
       "      <td>180</td>\n",
       "      <td>96</td>\n",
       "      <td>...</td>\n",
       "      <td>110.6</td>\n",
       "      <td>217.0</td>\n",
       "      <td>0.500</td>\n",
       "      <td>434</td>\n",
       "      <td>0.220</td>\n",
       "      <td>0.270</td>\n",
       "      <td>NaN</td>\n",
       "      <td>NaN</td>\n",
       "      <td>NaN</td>\n",
       "      <td>10.4</td>\n",
       "    </tr>\n",
       "    <tr>\n",
       "      <th>4</th>\n",
       "      <td>1109</td>\n",
       "      <td>2003</td>\n",
       "      <td>Barry Bonds</td>\n",
       "      <td>SFG</td>\n",
       "      <td>38</td>\n",
       "      <td>130</td>\n",
       "      <td>390</td>\n",
       "      <td>550</td>\n",
       "      <td>133</td>\n",
       "      <td>65</td>\n",
       "      <td>...</td>\n",
       "      <td>NaN</td>\n",
       "      <td>NaN</td>\n",
       "      <td>NaN</td>\n",
       "      <td>0</td>\n",
       "      <td>0.135</td>\n",
       "      <td>0.223</td>\n",
       "      <td>NaN</td>\n",
       "      <td>NaN</td>\n",
       "      <td>NaN</td>\n",
       "      <td>10.2</td>\n",
       "    </tr>\n",
       "  </tbody>\n",
       "</table>\n",
       "<p>5 rows × 320 columns</p>\n",
       "</div>"
      ],
      "text/plain": [
       "    IDfg  Season          Name Team  Age    G   AB   PA    H  1B  ...  maxEV  \\\n",
       "0   1109    2002   Barry Bonds  SFG   37  143  403  612  149  70  ...    NaN   \n",
       "1   1109    2004   Barry Bonds  SFG   39  147  373  617  135  60  ...    NaN   \n",
       "2  15640    2022   Aaron Judge  NYY   30  157  570  696  177  87  ...  118.4   \n",
       "3  13611    2018  Mookie Betts  BOS   25  136  520  614  180  96  ...  110.6   \n",
       "4   1109    2003   Barry Bonds  SFG   38  130  390  550  133  65  ...    NaN   \n",
       "\n",
       "   HardHit  HardHit%  Events  CStr%   CSW%  xBA  xSLG  xwOBA  L-WAR  \n",
       "0      NaN       NaN       0  0.127  0.191  NaN   NaN    NaN   12.7  \n",
       "1      NaN       NaN       0  0.124  0.164  NaN   NaN    NaN   11.9  \n",
       "2    246.0     0.609     404  0.169  0.287  NaN   NaN    NaN   11.2  \n",
       "3    217.0     0.500     434  0.220  0.270  NaN   NaN    NaN   10.4  \n",
       "4      NaN       NaN       0  0.135  0.223  NaN   NaN    NaN   10.2  \n",
       "\n",
       "[5 rows x 320 columns]"
      ]
     },
     "execution_count": 5,
     "metadata": {},
     "output_type": "execute_result"
    }
   ],
   "source": [
    "batting_data = pd.read_csv(os.path.join(DATA_DIR, BATTING_FN))\n",
    "\n",
    "display(batting_data.shape)\n",
    "batting_data.head()"
   ]
  },
  {
   "cell_type": "markdown",
   "id": "cd29d29a-f4c9-48c9-a40e-fc2094b2e8fa",
   "metadata": {},
   "source": [
    "# EDA"
   ]
  },
  {
   "cell_type": "code",
   "execution_count": 6,
   "id": "6319bd70-0b5c-4b3a-9c24-c9bda1a4be0a",
   "metadata": {},
   "outputs": [
    {
     "name": "stdout",
     "output_type": "stream",
     "text": [
      "<class 'pandas.core.frame.DataFrame'>\n",
      "RangeIndex: 9205 entries, 0 to 9204\n",
      "Columns: 320 entries, IDfg to L-WAR\n",
      "dtypes: float64(264), int64(52), object(4)\n",
      "memory usage: 22.5+ MB\n"
     ]
    }
   ],
   "source": [
    "batting_data.info()"
   ]
  },
  {
   "cell_type": "code",
   "execution_count": 7,
   "id": "acd7341b-e424-48cd-bc40-8282fd742bf0",
   "metadata": {},
   "outputs": [
    {
     "data": {
      "text/html": [
       "<div>\n",
       "<style scoped>\n",
       "    .dataframe tbody tr th:only-of-type {\n",
       "        vertical-align: middle;\n",
       "    }\n",
       "\n",
       "    .dataframe tbody tr th {\n",
       "        vertical-align: top;\n",
       "    }\n",
       "\n",
       "    .dataframe thead th {\n",
       "        text-align: right;\n",
       "    }\n",
       "</style>\n",
       "<table border=\"1\" class=\"dataframe\">\n",
       "  <thead>\n",
       "    <tr style=\"text-align: right;\">\n",
       "      <th></th>\n",
       "      <th>IDfg</th>\n",
       "      <th>Season</th>\n",
       "      <th>Age</th>\n",
       "      <th>G</th>\n",
       "      <th>AB</th>\n",
       "      <th>PA</th>\n",
       "      <th>H</th>\n",
       "      <th>1B</th>\n",
       "      <th>2B</th>\n",
       "      <th>3B</th>\n",
       "      <th>...</th>\n",
       "      <th>maxEV</th>\n",
       "      <th>HardHit</th>\n",
       "      <th>HardHit%</th>\n",
       "      <th>Events</th>\n",
       "      <th>CStr%</th>\n",
       "      <th>CSW%</th>\n",
       "      <th>xBA</th>\n",
       "      <th>xSLG</th>\n",
       "      <th>xwOBA</th>\n",
       "      <th>L-WAR</th>\n",
       "    </tr>\n",
       "  </thead>\n",
       "  <tbody>\n",
       "    <tr>\n",
       "      <th>count</th>\n",
       "      <td>9205.000000</td>\n",
       "      <td>9205.000000</td>\n",
       "      <td>9205.000000</td>\n",
       "      <td>9205.000000</td>\n",
       "      <td>9205.000000</td>\n",
       "      <td>9205.000000</td>\n",
       "      <td>9205.000000</td>\n",
       "      <td>9205.000000</td>\n",
       "      <td>9205.000000</td>\n",
       "      <td>9205.000000</td>\n",
       "      <td>...</td>\n",
       "      <td>3459.000000</td>\n",
       "      <td>7026.000000</td>\n",
       "      <td>3459.000000</td>\n",
       "      <td>9205.000000</td>\n",
       "      <td>9205.000000</td>\n",
       "      <td>9205.000000</td>\n",
       "      <td>0.0</td>\n",
       "      <td>0.0</td>\n",
       "      <td>0.0</td>\n",
       "      <td>9205.000000</td>\n",
       "    </tr>\n",
       "    <tr>\n",
       "      <th>mean</th>\n",
       "      <td>6073.321456</td>\n",
       "      <td>2011.968061</td>\n",
       "      <td>28.680608</td>\n",
       "      <td>103.824009</td>\n",
       "      <td>341.474525</td>\n",
       "      <td>382.268441</td>\n",
       "      <td>89.718414</td>\n",
       "      <td>58.682672</td>\n",
       "      <td>17.997501</td>\n",
       "      <td>1.820750</td>\n",
       "      <td>...</td>\n",
       "      <td>109.936340</td>\n",
       "      <td>44.969969</td>\n",
       "      <td>0.356977</td>\n",
       "      <td>94.605866</td>\n",
       "      <td>0.168887</td>\n",
       "      <td>0.266291</td>\n",
       "      <td>NaN</td>\n",
       "      <td>NaN</td>\n",
       "      <td>NaN</td>\n",
       "      <td>1.306290</td>\n",
       "    </tr>\n",
       "    <tr>\n",
       "      <th>std</th>\n",
       "      <td>5808.093397</td>\n",
       "      <td>6.033899</td>\n",
       "      <td>4.098724</td>\n",
       "      <td>38.693599</td>\n",
       "      <td>166.119428</td>\n",
       "      <td>186.851052</td>\n",
       "      <td>49.683695</td>\n",
       "      <td>33.204550</td>\n",
       "      <td>10.998938</td>\n",
       "      <td>2.175638</td>\n",
       "      <td>...</td>\n",
       "      <td>3.338332</td>\n",
       "      <td>59.930390</td>\n",
       "      <td>0.083527</td>\n",
       "      <td>147.071711</td>\n",
       "      <td>0.032178</td>\n",
       "      <td>0.029543</td>\n",
       "      <td>NaN</td>\n",
       "      <td>NaN</td>\n",
       "      <td>NaN</td>\n",
       "      <td>1.851884</td>\n",
       "    </tr>\n",
       "    <tr>\n",
       "      <th>min</th>\n",
       "      <td>1.000000</td>\n",
       "      <td>2002.000000</td>\n",
       "      <td>19.000000</td>\n",
       "      <td>22.000000</td>\n",
       "      <td>80.000000</td>\n",
       "      <td>100.000000</td>\n",
       "      <td>9.000000</td>\n",
       "      <td>3.000000</td>\n",
       "      <td>0.000000</td>\n",
       "      <td>0.000000</td>\n",
       "      <td>...</td>\n",
       "      <td>97.700000</td>\n",
       "      <td>0.000000</td>\n",
       "      <td>0.053000</td>\n",
       "      <td>0.000000</td>\n",
       "      <td>0.051000</td>\n",
       "      <td>0.137000</td>\n",
       "      <td>NaN</td>\n",
       "      <td>NaN</td>\n",
       "      <td>NaN</td>\n",
       "      <td>-3.400000</td>\n",
       "    </tr>\n",
       "    <tr>\n",
       "      <th>25%</th>\n",
       "      <td>1213.000000</td>\n",
       "      <td>2007.000000</td>\n",
       "      <td>26.000000</td>\n",
       "      <td>70.000000</td>\n",
       "      <td>190.000000</td>\n",
       "      <td>211.000000</td>\n",
       "      <td>45.000000</td>\n",
       "      <td>30.000000</td>\n",
       "      <td>9.000000</td>\n",
       "      <td>0.000000</td>\n",
       "      <td>...</td>\n",
       "      <td>107.700000</td>\n",
       "      <td>0.000000</td>\n",
       "      <td>0.306000</td>\n",
       "      <td>0.000000</td>\n",
       "      <td>0.148000</td>\n",
       "      <td>0.247000</td>\n",
       "      <td>NaN</td>\n",
       "      <td>NaN</td>\n",
       "      <td>NaN</td>\n",
       "      <td>0.000000</td>\n",
       "    </tr>\n",
       "    <tr>\n",
       "      <th>50%</th>\n",
       "      <td>4146.000000</td>\n",
       "      <td>2012.000000</td>\n",
       "      <td>28.000000</td>\n",
       "      <td>108.000000</td>\n",
       "      <td>330.000000</td>\n",
       "      <td>367.000000</td>\n",
       "      <td>83.000000</td>\n",
       "      <td>54.000000</td>\n",
       "      <td>16.000000</td>\n",
       "      <td>1.000000</td>\n",
       "      <td>...</td>\n",
       "      <td>109.800000</td>\n",
       "      <td>0.000000</td>\n",
       "      <td>0.362000</td>\n",
       "      <td>0.000000</td>\n",
       "      <td>0.169000</td>\n",
       "      <td>0.266000</td>\n",
       "      <td>NaN</td>\n",
       "      <td>NaN</td>\n",
       "      <td>NaN</td>\n",
       "      <td>0.800000</td>\n",
       "    </tr>\n",
       "    <tr>\n",
       "      <th>75%</th>\n",
       "      <td>9893.000000</td>\n",
       "      <td>2017.000000</td>\n",
       "      <td>31.000000</td>\n",
       "      <td>139.000000</td>\n",
       "      <td>490.000000</td>\n",
       "      <td>550.000000</td>\n",
       "      <td>131.000000</td>\n",
       "      <td>84.000000</td>\n",
       "      <td>26.000000</td>\n",
       "      <td>3.000000</td>\n",
       "      <td>...</td>\n",
       "      <td>112.200000</td>\n",
       "      <td>78.000000</td>\n",
       "      <td>0.415000</td>\n",
       "      <td>158.000000</td>\n",
       "      <td>0.190000</td>\n",
       "      <td>0.285000</td>\n",
       "      <td>NaN</td>\n",
       "      <td>NaN</td>\n",
       "      <td>NaN</td>\n",
       "      <td>2.200000</td>\n",
       "    </tr>\n",
       "    <tr>\n",
       "      <th>max</th>\n",
       "      <td>30116.000000</td>\n",
       "      <td>2022.000000</td>\n",
       "      <td>48.000000</td>\n",
       "      <td>163.000000</td>\n",
       "      <td>716.000000</td>\n",
       "      <td>778.000000</td>\n",
       "      <td>262.000000</td>\n",
       "      <td>225.000000</td>\n",
       "      <td>58.000000</td>\n",
       "      <td>23.000000</td>\n",
       "      <td>...</td>\n",
       "      <td>122.400000</td>\n",
       "      <td>274.000000</td>\n",
       "      <td>0.622000</td>\n",
       "      <td>599.000000</td>\n",
       "      <td>0.299000</td>\n",
       "      <td>0.400000</td>\n",
       "      <td>NaN</td>\n",
       "      <td>NaN</td>\n",
       "      <td>NaN</td>\n",
       "      <td>12.700000</td>\n",
       "    </tr>\n",
       "  </tbody>\n",
       "</table>\n",
       "<p>8 rows × 316 columns</p>\n",
       "</div>"
      ],
      "text/plain": [
       "               IDfg       Season          Age            G           AB  \\\n",
       "count   9205.000000  9205.000000  9205.000000  9205.000000  9205.000000   \n",
       "mean    6073.321456  2011.968061    28.680608   103.824009   341.474525   \n",
       "std     5808.093397     6.033899     4.098724    38.693599   166.119428   \n",
       "min        1.000000  2002.000000    19.000000    22.000000    80.000000   \n",
       "25%     1213.000000  2007.000000    26.000000    70.000000   190.000000   \n",
       "50%     4146.000000  2012.000000    28.000000   108.000000   330.000000   \n",
       "75%     9893.000000  2017.000000    31.000000   139.000000   490.000000   \n",
       "max    30116.000000  2022.000000    48.000000   163.000000   716.000000   \n",
       "\n",
       "                PA            H           1B           2B           3B  ...  \\\n",
       "count  9205.000000  9205.000000  9205.000000  9205.000000  9205.000000  ...   \n",
       "mean    382.268441    89.718414    58.682672    17.997501     1.820750  ...   \n",
       "std     186.851052    49.683695    33.204550    10.998938     2.175638  ...   \n",
       "min     100.000000     9.000000     3.000000     0.000000     0.000000  ...   \n",
       "25%     211.000000    45.000000    30.000000     9.000000     0.000000  ...   \n",
       "50%     367.000000    83.000000    54.000000    16.000000     1.000000  ...   \n",
       "75%     550.000000   131.000000    84.000000    26.000000     3.000000  ...   \n",
       "max     778.000000   262.000000   225.000000    58.000000    23.000000  ...   \n",
       "\n",
       "             maxEV      HardHit     HardHit%       Events        CStr%  \\\n",
       "count  3459.000000  7026.000000  3459.000000  9205.000000  9205.000000   \n",
       "mean    109.936340    44.969969     0.356977    94.605866     0.168887   \n",
       "std       3.338332    59.930390     0.083527   147.071711     0.032178   \n",
       "min      97.700000     0.000000     0.053000     0.000000     0.051000   \n",
       "25%     107.700000     0.000000     0.306000     0.000000     0.148000   \n",
       "50%     109.800000     0.000000     0.362000     0.000000     0.169000   \n",
       "75%     112.200000    78.000000     0.415000   158.000000     0.190000   \n",
       "max     122.400000   274.000000     0.622000   599.000000     0.299000   \n",
       "\n",
       "              CSW%  xBA  xSLG  xwOBA        L-WAR  \n",
       "count  9205.000000  0.0   0.0    0.0  9205.000000  \n",
       "mean      0.266291  NaN   NaN    NaN     1.306290  \n",
       "std       0.029543  NaN   NaN    NaN     1.851884  \n",
       "min       0.137000  NaN   NaN    NaN    -3.400000  \n",
       "25%       0.247000  NaN   NaN    NaN     0.000000  \n",
       "50%       0.266000  NaN   NaN    NaN     0.800000  \n",
       "75%       0.285000  NaN   NaN    NaN     2.200000  \n",
       "max       0.400000  NaN   NaN    NaN    12.700000  \n",
       "\n",
       "[8 rows x 316 columns]"
      ]
     },
     "execution_count": 7,
     "metadata": {},
     "output_type": "execute_result"
    }
   ],
   "source": [
    "batting_data.describe()"
   ]
  },
  {
   "cell_type": "code",
   "execution_count": 8,
   "id": "207c87d4-bf6a-4cc4-a7a9-7c61844907b3",
   "metadata": {},
   "outputs": [
    {
     "data": {
      "text/plain": [
       "1919"
      ]
     },
     "execution_count": 8,
     "metadata": {},
     "output_type": "execute_result"
    }
   ],
   "source": [
    "len(batting_data.loc[:, \"IDfg\"].unique())"
   ]
  },
  {
   "cell_type": "markdown",
   "id": "0072fc1b-3e5f-419d-9f20-e3deadb5c063",
   "metadata": {},
   "source": [
    "These are players that only have one season of data. We're going to remove them later."
   ]
  },
  {
   "cell_type": "code",
   "execution_count": 9,
   "id": "2fc60eda-46ff-49fe-8fc6-9e5ecc983b15",
   "metadata": {},
   "outputs": [
    {
     "data": {
      "text/plain": [
       "443"
      ]
     },
     "execution_count": 9,
     "metadata": {},
     "output_type": "execute_result"
    }
   ],
   "source": [
    "player_seasons = batting_data.groupby(\"IDfg\", group_keys=False).size()\n",
    "player_seasons[player_seasons <= 1].count()"
   ]
  },
  {
   "cell_type": "markdown",
   "id": "4281bdc5-f463-416b-863d-615cb4be1439",
   "metadata": {},
   "source": [
    "## Checking Missing Values"
   ]
  },
  {
   "cell_type": "code",
   "execution_count": 10,
   "id": "45600b9b-d24f-4049-a7b6-8102b5e4e1ab",
   "metadata": {},
   "outputs": [
    {
     "name": "stdout",
     "output_type": "stream",
     "text": [
      "Percent of NaN values in the entire csv: 24.99%\n"
     ]
    }
   ],
   "source": [
    "percent_nan = batting_data.isna().sum().sum() / (batting_data.shape[0] * batting_data.shape[1])\n",
    "percent_nan *= 100\n",
    "print(\"Percent of NaN values in the entire csv: {0:.2f}%\".format(percent_nan))"
   ]
  },
  {
   "cell_type": "markdown",
   "id": "bbbd2f27-ece8-42b3-a607-afb77a21ad09",
   "metadata": {},
   "source": [
    "These are all the columns where at least 60% of the values are NaN. Most of these are stats that weren't kept track of consistently until later on. <br>\n",
    "We're gonna take these out later since imputing values wouldn't be very helpful. "
   ]
  },
  {
   "cell_type": "code",
   "execution_count": 11,
   "id": "076a39e3-18cd-4d8d-a25f-042daff9fa64",
   "metadata": {},
   "outputs": [
    {
     "name": "stdout",
     "output_type": "stream",
     "text": [
      "Number of bad columns: 69\n",
      "\n",
      "['KN%', 'KNv', 'PO%', 'wKN', 'wKN/C', 'FT% (sc)', 'FO% (sc)', 'EP% (sc)', 'SC% (sc)', 'KN% (sc)', 'UN% (sc)', 'vFT (sc)', 'vFO (sc)', 'vEP (sc)', 'vSC (sc)', 'vKN (sc)', 'FT-X (sc)', 'FO-X (sc)', 'EP-X (sc)', 'SC-X (sc)', 'KN-X (sc)', 'FT-Z (sc)', 'FO-Z (sc)', 'EP-Z (sc)', 'SC-Z (sc)', 'KN-Z (sc)', 'wFT (sc)', 'wFO (sc)', 'wEP (sc)', 'wSC (sc)', 'wKN (sc)', 'wFT/C (sc)', 'wFO/C (sc)', 'wEP/C (sc)', 'wSC/C (sc)', 'wKN/C (sc)', 'CS% (pi)', 'KN% (pi)', 'SB% (pi)', 'XX% (pi)', 'vCS (pi)', 'vKN (pi)', 'vSB (pi)', 'vXX (pi)', 'CS-X (pi)', 'KN-X (pi)', 'SB-X (pi)', 'XX-X (pi)', 'CS-Z (pi)', 'KN-Z (pi)', 'SB-Z (pi)', 'XX-Z (pi)', 'wCS (pi)', 'wKN (pi)', 'wSB (pi)', 'wXX (pi)', 'wCS/C (pi)', 'wKN/C (pi)', 'wSB/C (pi)', 'wXX/C (pi)', 'FRM', 'EV', 'LA', 'Barrel%', 'maxEV', 'HardHit%', 'xBA', 'xSLG', 'xwOBA']\n"
     ]
    }
   ],
   "source": [
    "column_wise_nan = batting_data.isna().sum() / batting_data.count()\n",
    "bad_cols = [col for col, val in zip(column_wise_nan.index, column_wise_nan.values) if val >= 0.60]\n",
    "\n",
    "print(f\"Number of bad columns: {len(bad_cols)}\\n\")\n",
    "print(bad_cols)"
   ]
  },
  {
   "cell_type": "markdown",
   "id": "354189c3-9193-4e72-8228-2eb50909087b",
   "metadata": {},
   "source": [
    "Next, we're checking the adjusted stats. The stats with a \"+\" in them indicate a statistic adjusted for external factors such as fields. \\\n",
    "They pretty much measure the same thing as their non-plus counterparts so we can remove the other ones."
   ]
  },
  {
   "cell_type": "code",
   "execution_count": 12,
   "id": "47ab1c70-bff4-4b68-9985-29fc470b2b9d",
   "metadata": {},
   "outputs": [
    {
     "name": "stdout",
     "output_type": "stream",
     "text": [
      "wRC+         wRC\n",
      "+WPA         WPA\n",
      "AVG+         AVG\n",
      "BB%+         BB%\n",
      "K%+           K%\n",
      "OBP+         OBP\n",
      "SLG+         SLG\n",
      "ISO+         ISO\n",
      "BABIP+     BABIP\n",
      "LD+%         LD%\n",
      "GB%+         GB%\n",
      "FB%+         FB%\n",
      "HR/FB%+   \n",
      "Pull%+     Pull%\n",
      "Cent%+     Cent%\n",
      "Oppo%+     Oppo%\n",
      "Soft%+     Soft%\n",
      "Med%+       Med%\n",
      "Hard%+     Hard%\n"
     ]
    }
   ],
   "source": [
    "# taking a look at adjusted statistics\n",
    "adj_cols = [col for col in batting_data.columns if \"+\" in col]\n",
    "temp = [col.replace(\"+\", \"\") for col in adj_cols] + [\"HR/FB\"]\n",
    "non_adj_cols = list(batting_data.loc[:, batting_data.columns.isin(temp)].columns)\n",
    "\n",
    "mapper = {k: k for k in non_adj_cols}\n",
    "\n",
    "for x in adj_cols:\n",
    "    temp = x.replace(\"+\", \"\")\n",
    "    if temp in mapper:\n",
    "        print(f\"{x:<10} {mapper[temp]:>5}\")\n",
    "    else:\n",
    "        print(f\"{x:<10}\")"
   ]
  },
  {
   "cell_type": "markdown",
   "id": "a81fab9a-3998-4334-8eca-642966b13dd9",
   "metadata": {},
   "source": [
    "Because the pandemic screwed up the 2020 season, I'm going to remove it from the data. "
   ]
  },
  {
   "cell_type": "code",
   "execution_count": 13,
   "id": "23612958-a32e-4251-8ef6-4031864bce43",
   "metadata": {},
   "outputs": [],
   "source": [
    "batting_data = batting_data[batting_data[\"Season\"] != 2020]"
   ]
  },
  {
   "cell_type": "markdown",
   "id": "028fa0d7-09aa-40cd-96ba-210ec4359d7d",
   "metadata": {},
   "source": [
    "The line below sets up our target variable for each row in the data."
   ]
  },
  {
   "cell_type": "code",
   "execution_count": 14,
   "id": "b940bf80-89a9-4ad7-8c6c-9eac47ccf917",
   "metadata": {},
   "outputs": [
    {
     "name": "stderr",
     "output_type": "stream",
     "text": [
      "100%|████████████████████████████████████████████████████████████████████████████| 1919/1919 [00:01<00:00, 1327.20it/s]\n"
     ]
    }
   ],
   "source": [
    "batting_data = batting_data.groupby(\"IDfg\", group_keys=False).progress_apply(next_season)"
   ]
  },
  {
   "cell_type": "markdown",
   "id": "5b63dd65-87ff-4056-a560-d9b242629b51",
   "metadata": {},
   "source": [
    "## Cleaning Data"
   ]
  },
  {
   "cell_type": "markdown",
   "id": "75170014-8848-4976-860c-b67971d62b4c",
   "metadata": {},
   "source": [
    "This is removing any player that only has one season of data."
   ]
  },
  {
   "cell_type": "code",
   "execution_count": 15,
   "id": "5dcd58f6-9406-4a6f-bfd3-eb316405101e",
   "metadata": {},
   "outputs": [],
   "source": [
    "batting_data = batting_data.groupby(\"IDfg\", group_keys=False).filter(lambda x: x.shape[0] > 1)"
   ]
  },
  {
   "cell_type": "markdown",
   "id": "b67c6b6e-a37d-4302-bf82-982272ed81d0",
   "metadata": {},
   "source": [
    "Dropping out the bad columns we saw earlier. I'm also going to keep in the entries that don't have a number <br>\n",
    "for \"Next_HR\" in 2022 so that I can perform all the manipulations on one dataframe. I'll use those values for forecasting later."
   ]
  },
  {
   "cell_type": "code",
   "execution_count": 16,
   "id": "2c525792-a0a6-4e55-8284-70298b4a871e",
   "metadata": {},
   "outputs": [
    {
     "data": {
      "text/plain": [
       "(7343, 233)"
      ]
     },
     "execution_count": 16,
     "metadata": {},
     "output_type": "execute_result"
    }
   ],
   "source": [
    "# dropping columns with tons of missing data\n",
    "batting_data = batting_data.drop(bad_cols, axis=1)\n",
    "\n",
    "# dropping rows with NaN homeruns and the 2022 season\n",
    "bad_rows = batting_data[(batting_data[\"Next_HR\"].isna()) & (batting_data[\"Season\"] != 2022)].index\n",
    "batting_data = batting_data.drop(bad_rows, axis=0)\n",
    "\n",
    "# dropping the non-adjusted versions of the columns\n",
    "batting_data = batting_data.drop(columns=non_adj_cols, axis=1)\n",
    "batting_data.shape"
   ]
  },
  {
   "cell_type": "markdown",
   "id": "436b024b-8ccb-4ebe-89ac-b032df58d56c",
   "metadata": {},
   "source": [
    "Filling in any leftover missing values with the median values of their respective columns. We're gonna ignore the NaN values in the \"Next_HR\" column for now."
   ]
  },
  {
   "cell_type": "code",
   "execution_count": 17,
   "id": "cf4e0d96-08e2-48f8-8da9-6a4cd3cb41ff",
   "metadata": {},
   "outputs": [
    {
     "data": {
      "text/plain": [
       "0"
      ]
     },
     "execution_count": 17,
     "metadata": {},
     "output_type": "execute_result"
    }
   ],
   "source": [
    "# filling in NaN values with median (median values had better results than mean)\n",
    "for col in batting_data.columns:\n",
    "    if col == \"Next_HR\":\n",
    "        pass\n",
    "    if batting_data[col].dtype == int or batting_data[col].dtype == float:\n",
    "        batting_data[col].fillna(batting_data[col].median(), inplace=True)\n",
    "    else:\n",
    "        # if the object types have NaN\n",
    "        batting_data[col].fillna(\"None\", inplace=True)\n",
    "        \n",
    "batting_data.loc[:, batting_data.columns != \"Next_HR\"].isna().sum().sum()"
   ]
  },
  {
   "cell_type": "code",
   "execution_count": 18,
   "id": "581cd982-7395-4e3b-ac69-93e349960a79",
   "metadata": {},
   "outputs": [
    {
     "data": {
      "text/plain": [
       "Name       object\n",
       "Team       object\n",
       "Dol        object\n",
       "Age Rng    object\n",
       "dtype: object"
      ]
     },
     "execution_count": 18,
     "metadata": {},
     "output_type": "execute_result"
    }
   ],
   "source": [
    "batting_data.dtypes[batting_data.dtypes == \"object\"]"
   ]
  },
  {
   "cell_type": "markdown",
   "id": "54300920-a66f-4b00-b025-34f7ddb13241",
   "metadata": {},
   "source": [
    "Now we're gonna check the object datatypes."
   ]
  },
  {
   "cell_type": "markdown",
   "id": "e95f5531-ab91-4c18-902a-05158d0ea29a",
   "metadata": {},
   "source": [
    "Basically, this column is a calculated dollar amount assigned to the player. We can just throw this out."
   ]
  },
  {
   "cell_type": "code",
   "execution_count": 19,
   "id": "c1f55592-e56d-40b9-b51e-beb80f18bdc7",
   "metadata": {},
   "outputs": [
    {
     "data": {
      "text/plain": [
       "7506     ($0.8)\n",
       "7841     ($1.2)\n",
       "4117       $5.5\n",
       "2639      $11.2\n",
       "1034      $14.6\n",
       "         ...   \n",
       "8050     ($4.1)\n",
       "7106     ($1.1)\n",
       "9070    ($10.4)\n",
       "5569       $3.9\n",
       "1076      $29.3\n",
       "Name: Dol, Length: 7343, dtype: object"
      ]
     },
     "execution_count": 19,
     "metadata": {},
     "output_type": "execute_result"
    }
   ],
   "source": [
    "batting_data[\"Dol\"]"
   ]
  },
  {
   "cell_type": "markdown",
   "id": "c714f39d-25dc-482a-9ae3-54fea2e5193b",
   "metadata": {},
   "source": [
    "This age range column is weird in that it shows the age range of the player for just that season. So, it really doesn't provide anything more than the \"Age\" column does."
   ]
  },
  {
   "cell_type": "code",
   "execution_count": 20,
   "id": "2ecd6ce2-ee3e-417f-b65b-669c877935d8",
   "metadata": {},
   "outputs": [
    {
     "data": {
      "text/plain": [
       "7506    25 - 25\n",
       "7841    26 - 26\n",
       "4117    28 - 28\n",
       "2639    29 - 29\n",
       "1034    30 - 30\n",
       "         ...   \n",
       "8050    24 - 24\n",
       "7106    29 - 29\n",
       "9070    30 - 30\n",
       "5569    25 - 25\n",
       "1076    26 - 26\n",
       "Name: Age Rng, Length: 7343, dtype: object"
      ]
     },
     "execution_count": 20,
     "metadata": {},
     "output_type": "execute_result"
    }
   ],
   "source": [
    "batting_data[\"Age Rng\"]"
   ]
  },
  {
   "cell_type": "code",
   "execution_count": 21,
   "id": "2a7b6f74-fd84-4770-96a2-c75d995cd965",
   "metadata": {},
   "outputs": [],
   "source": [
    "del batting_data[\"Dol\"]\n",
    "del batting_data[\"Age Rng\"]"
   ]
  },
  {
   "cell_type": "markdown",
   "id": "9b5ad670-a707-4f31-a9e8-e5b823bfa829",
   "metadata": {},
   "source": [
    "Next we're gonna encode the teams."
   ]
  },
  {
   "cell_type": "code",
   "execution_count": 22,
   "id": "dd1ad724-e2f6-4881-8300-d92aff24c1b8",
   "metadata": {},
   "outputs": [],
   "source": [
    "batting_data[\"team_enc\"] = batting_data[\"Team\"].astype(\"category\").cat.codes"
   ]
  },
  {
   "cell_type": "markdown",
   "id": "5cd0281f-e5a0-4c34-983e-1a2d789965b0",
   "metadata": {},
   "source": [
    "## Distributions and Plots"
   ]
  },
  {
   "cell_type": "markdown",
   "id": "e5a39a4e-938c-445f-916d-18834dca0906",
   "metadata": {},
   "source": [
    "### Total Home Runs Per Year"
   ]
  },
  {
   "cell_type": "code",
   "execution_count": 23,
   "id": "ae44cbe4-2c59-4377-bb27-a45b2ed46d1a",
   "metadata": {},
   "outputs": [
    {
     "data": {
      "image/png": "[encoded data removed]",
      "text/plain": [
       "<Figure size 1080x360 with 1 Axes>"
      ]
     },
     "metadata": {},
     "output_type": "display_data"
    }
   ],
   "source": [
    "hr_years = batting_data.groupby(\"Season\")[\"HR\"].sum()\n",
    "\n",
    "plt.figure(figsize=(15, 5))\n",
    "plt.ylabel(\"# Home Runs\")\n",
    "plt.xlabel(\"Season\")\n",
    "plt.title(\"Home Runs vs. Season\", fontsize=20)\n",
    "plt.plot(hr_years.index.astype(str), hr_years.values, color='r')\n",
    "plt.tight_layout()"
   ]
  },
  {
   "cell_type": "markdown",
   "id": "9dd1c801-ffba-4533-8899-87e89b8e2e99",
   "metadata": {},
   "source": [
    "For this dataset, the number of home runs is on a slight downward trend from 2002 to 2014. These numbers definitely don't reflect the <br> \n",
    "true season totals because I've only included players with 100 plate appearances, and I removed a lot of entries that didn't have a number <br>\n",
    "for next season's home runs."
   ]
  },
  {
   "cell_type": "markdown",
   "id": "b887d073-fe63-4fd4-9b03-176e6eed9746",
   "metadata": {},
   "source": [
    "### Home Run Frequencies"
   ]
  },
  {
   "cell_type": "code",
   "execution_count": 24,
   "id": "b246d68e-da56-451c-a40a-d1bdb08ec4d9",
   "metadata": {},
   "outputs": [
    {
     "data": {
      "image/png": "[encoded data removed]",
      "text/plain": [
       "<Figure size 1080x576 with 1 Axes>"
      ]
     },
     "metadata": {},
     "output_type": "display_data"
    }
   ],
   "source": [
    "fig = plt.figure(figsize=(15, 8))\n",
    "\n",
    "sns.histplot(data=batting_data, x=\"HR\", kde=True, color='blue')\n",
    "fig.suptitle(\"Homerun Frequencies\", fontsize=25)\n",
    "plt.tight_layout()"
   ]
  },
  {
   "cell_type": "markdown",
   "id": "e2b9418a-7967-49f0-bcf8-d6e8d5161e7e",
   "metadata": {},
   "source": [
    "A majority of players hit less than 20 home runs per season. There are a few star outliers that hit 50 and above. \n",
    "We can check out those players below."
   ]
  },
  {
   "cell_type": "code",
   "execution_count": 25,
   "id": "9760d546-2d10-45f9-a8dd-f5a8c6685330",
   "metadata": {},
   "outputs": [
    {
     "data": {
      "text/html": [
       "<div>\n",
       "<style scoped>\n",
       "    .dataframe tbody tr th:only-of-type {\n",
       "        vertical-align: middle;\n",
       "    }\n",
       "\n",
       "    .dataframe tbody tr th {\n",
       "        vertical-align: top;\n",
       "    }\n",
       "\n",
       "    .dataframe thead th {\n",
       "        text-align: right;\n",
       "    }\n",
       "</style>\n",
       "<table border=\"1\" class=\"dataframe\">\n",
       "  <thead>\n",
       "    <tr style=\"text-align: right;\">\n",
       "      <th></th>\n",
       "      <th>Name</th>\n",
       "      <th>Season</th>\n",
       "      <th>Team</th>\n",
       "      <th>HR</th>\n",
       "    </tr>\n",
       "  </thead>\n",
       "  <tbody>\n",
       "    <tr>\n",
       "      <th>47</th>\n",
       "      <td>Andruw Jones</td>\n",
       "      <td>2005</td>\n",
       "      <td>ATL</td>\n",
       "      <td>51</td>\n",
       "    </tr>\n",
       "    <tr>\n",
       "      <th>72</th>\n",
       "      <td>Jim Thome</td>\n",
       "      <td>2002</td>\n",
       "      <td>CLE</td>\n",
       "      <td>52</td>\n",
       "    </tr>\n",
       "    <tr>\n",
       "      <th>362</th>\n",
       "      <td>David Ortiz</td>\n",
       "      <td>2006</td>\n",
       "      <td>BOS</td>\n",
       "      <td>54</td>\n",
       "    </tr>\n",
       "    <tr>\n",
       "      <th>8</th>\n",
       "      <td>Alex Rodriguez</td>\n",
       "      <td>2002</td>\n",
       "      <td>TEX</td>\n",
       "      <td>57</td>\n",
       "    </tr>\n",
       "    <tr>\n",
       "      <th>10</th>\n",
       "      <td>Alex Rodriguez</td>\n",
       "      <td>2007</td>\n",
       "      <td>NYY</td>\n",
       "      <td>54</td>\n",
       "    </tr>\n",
       "    <tr>\n",
       "      <th>155</th>\n",
       "      <td>Jose Bautista</td>\n",
       "      <td>2010</td>\n",
       "      <td>TOR</td>\n",
       "      <td>54</td>\n",
       "    </tr>\n",
       "    <tr>\n",
       "      <th>242</th>\n",
       "      <td>Ryan Howard</td>\n",
       "      <td>2006</td>\n",
       "      <td>PHI</td>\n",
       "      <td>58</td>\n",
       "    </tr>\n",
       "    <tr>\n",
       "      <th>118</th>\n",
       "      <td>Giancarlo Stanton</td>\n",
       "      <td>2017</td>\n",
       "      <td>MIA</td>\n",
       "      <td>59</td>\n",
       "    </tr>\n",
       "    <tr>\n",
       "      <th>92</th>\n",
       "      <td>Chris Davis</td>\n",
       "      <td>2013</td>\n",
       "      <td>BAL</td>\n",
       "      <td>53</td>\n",
       "    </tr>\n",
       "    <tr>\n",
       "      <th>19</th>\n",
       "      <td>Aaron Judge</td>\n",
       "      <td>2017</td>\n",
       "      <td>NYY</td>\n",
       "      <td>52</td>\n",
       "    </tr>\n",
       "    <tr>\n",
       "      <th>2</th>\n",
       "      <td>Aaron Judge</td>\n",
       "      <td>2022</td>\n",
       "      <td>NYY</td>\n",
       "      <td>62</td>\n",
       "    </tr>\n",
       "    <tr>\n",
       "      <th>663</th>\n",
       "      <td>Pete Alonso</td>\n",
       "      <td>2019</td>\n",
       "      <td>NYM</td>\n",
       "      <td>53</td>\n",
       "    </tr>\n",
       "  </tbody>\n",
       "</table>\n",
       "</div>"
      ],
      "text/plain": [
       "                  Name  Season Team  HR\n",
       "47        Andruw Jones    2005  ATL  51\n",
       "72           Jim Thome    2002  CLE  52\n",
       "362        David Ortiz    2006  BOS  54\n",
       "8       Alex Rodriguez    2002  TEX  57\n",
       "10      Alex Rodriguez    2007  NYY  54\n",
       "155      Jose Bautista    2010  TOR  54\n",
       "242        Ryan Howard    2006  PHI  58\n",
       "118  Giancarlo Stanton    2017  MIA  59\n",
       "92         Chris Davis    2013  BAL  53\n",
       "19         Aaron Judge    2017  NYY  52\n",
       "2          Aaron Judge    2022  NYY  62\n",
       "663        Pete Alonso    2019  NYM  53"
      ]
     },
     "execution_count": 25,
     "metadata": {},
     "output_type": "execute_result"
    }
   ],
   "source": [
    "batting_data[batting_data[\"HR\"] > 50][[\"Name\", \"Season\", \"Team\", \"HR\"]]"
   ]
  },
  {
   "cell_type": "markdown",
   "id": "7fe10d44-b09e-4de1-aacb-5c0e4a7fe19a",
   "metadata": {},
   "source": [
    "There are definitely a couple of Hall of Famers on that list. "
   ]
  },
  {
   "cell_type": "markdown",
   "id": "975678dd-5c9d-4e5f-a87d-92d337f76a05",
   "metadata": {},
   "source": [
    "## Correlations\n",
    "We're gonna check if any the features are significanly correlated with next season's home runs."
   ]
  },
  {
   "cell_type": "code",
   "execution_count": 26,
   "id": "7cbff009-73f4-4fc2-886f-0b1ee2cd1bda",
   "metadata": {},
   "outputs": [],
   "source": [
    "use_cols = batting_data.columns[~batting_data.columns.isin([\"IDfg\", \"Season\", \"Name\", \"Team\"])]\n",
    "correlations = batting_data[~batting_data[\"Next_HR\"].isna()][use_cols].corr()[\"Next_HR\"][:]"
   ]
  },
  {
   "cell_type": "code",
   "execution_count": 27,
   "id": "63f618b1-b5b1-4ee6-a1f7-f8dd9ce5419f",
   "metadata": {},
   "outputs": [],
   "source": [
    "sorted_corrs = correlations.sort_values()"
   ]
  },
  {
   "cell_type": "code",
   "execution_count": 28,
   "id": "22f1d4dd-105a-4c32-8eca-19be102b0b26",
   "metadata": {},
   "outputs": [
    {
     "name": "stdout",
     "output_type": "stream",
     "text": [
      "Med%+             -0.391694\n",
      "-WPA              -0.378384\n",
      "SH                -0.289537\n",
      "GB/FB             -0.289135\n",
      "Soft%+            -0.282617\n",
      "GB%+              -0.281438\n",
      "Pos               -0.279170\n",
      "BU                -0.260383\n",
      "Zone% (pi)        -0.251440\n",
      "Zone% (sc)        -0.247932\n",
      "FB% (Pitch)       -0.235852\n",
      "Contact%          -0.227815\n",
      "CStr%             -0.223223\n",
      "Z-Contact%        -0.214485\n",
      "Oppo%+            -0.210875\n",
      "PH                -0.205029\n",
      "Def               -0.191234\n",
      "Zone%             -0.188106\n",
      "Contact% (sc)     -0.185504\n",
      "Contact% (pi)     -0.185397\n",
      "F-Strike%         -0.182688\n",
      "O-Contact%        -0.179687\n",
      "BUH               -0.179002\n",
      "Z-Contact% (sc)   -0.174932\n",
      "Z-Contact% (pi)   -0.174231\n",
      "Name: Next_HR, dtype: float64\n"
     ]
    }
   ],
   "source": [
    "print(sorted_corrs[:25])"
   ]
  },
  {
   "cell_type": "code",
   "execution_count": 29,
   "id": "d4a101f2-e104-401d-9064-df7620f70c5c",
   "metadata": {},
   "outputs": [
    {
     "name": "stdout",
     "output_type": "stream",
     "text": [
      "Rep        0.407174\n",
      "2B         0.409935\n",
      "Pitches    0.426356\n",
      "FB         0.441992\n",
      "Balls      0.450567\n",
      "SO         0.452796\n",
      "BB         0.453338\n",
      "wRC+       0.459532\n",
      "R          0.459863\n",
      "wOBA       0.461713\n",
      "REW        0.462105\n",
      "RE24       0.466116\n",
      "Off        0.466762\n",
      "wFB        0.469749\n",
      "+WPA       0.479930\n",
      "WPA/LI     0.489950\n",
      "Bat        0.491311\n",
      "OPS        0.491432\n",
      "wRAA       0.507710\n",
      "HR/FB%+    0.508361\n",
      "Hard%+     0.523343\n",
      "SLG+       0.525170\n",
      "ISO+       0.558331\n",
      "RBI        0.562842\n",
      "HR         0.636610\n",
      "Name: Next_HR, dtype: float64\n"
     ]
    }
   ],
   "source": [
    "print(sorted_corrs[sorted_corrs.shape[0]-26:-1])"
   ]
  },
  {
   "cell_type": "code",
   "execution_count": 30,
   "id": "5cfd95cb-9e64-4375-8bfa-b1f54442df01",
   "metadata": {},
   "outputs": [],
   "source": [
    "neg_features = sorted_corrs.index[:8]\n",
    "pos_features = sorted_corrs.index[sorted_corrs.shape[0]-9:-1]"
   ]
  },
  {
   "cell_type": "markdown",
   "id": "20a669b4-3917-44aa-97a8-2e115ac6b6fb",
   "metadata": {},
   "source": [
    "We can even view some of these in scatter plots."
   ]
  },
  {
   "cell_type": "code",
   "execution_count": 31,
   "id": "47fcde49-cbe0-4a96-9ca4-4dbce93a6926",
   "metadata": {},
   "outputs": [
    {
     "data": {
      "image/png": "[encoded data removed]",
      "text/plain": [
       "<Figure size 1152x576 with 8 Axes>"
      ]
     },
     "metadata": {},
     "output_type": "display_data"
    }
   ],
   "source": [
    "_, axs = plt.subplots(2, 4, figsize=(16, 8))\n",
    "for col, ax in zip(neg_features, axs.ravel()):\n",
    "    next_hr = batting_data[\"Next_HR\"].values\n",
    "    col_data = batting_data[col].values\n",
    "    ax.scatter(col_data, next_hr, color='orangered')\n",
    "    ax.set_title(col)\n",
    "plt.tight_layout(h_pad=2)\n",
    "plt.suptitle(\"Scatter Plots of Top 8 Negative Correlated Features\", fontsize=20, y=1.04)\n",
    "plt.show()"
   ]
  },
  {
   "cell_type": "code",
   "execution_count": 32,
   "id": "7dc002d5-58a6-4f57-9167-67d31e712041",
   "metadata": {},
   "outputs": [
    {
     "data": {
      "image/png": "[encoded data removed]",
      "text/plain": [
       "<Figure size 1152x576 with 8 Axes>"
      ]
     },
     "metadata": {},
     "output_type": "display_data"
    }
   ],
   "source": [
    "_, axs = plt.subplots(2, 4, figsize=(16, 8))\n",
    "for col, ax in zip(pos_features, axs.ravel()):\n",
    "    next_hr = batting_data[\"Next_HR\"].values\n",
    "    col_data = batting_data[col].values\n",
    "    ax.scatter(col_data, next_hr, color='blue')\n",
    "    ax.set_title(col)\n",
    "plt.tight_layout(h_pad=2)\n",
    "plt.suptitle(\"Scatter Plots of Top 8 Positive Correlated Features\", fontsize=20, y=1.04)\n",
    "plt.show()"
   ]
  },
  {
   "cell_type": "markdown",
   "id": "e89871c3-6676-4100-81ec-8892af74303a",
   "metadata": {},
   "source": [
    "The heatmap below of the first 10 features suggests we have multicollinearity. \\\n",
    "It's highly likely that there are more variables that are correlated with each other. "
   ]
  },
  {
   "cell_type": "code",
   "execution_count": 33,
   "id": "337982a1-6551-4938-8d78-80b04d7119e4",
   "metadata": {},
   "outputs": [
    {
     "data": {
      "image/png": "[encoded data removed]",
      "text/plain": [
       "<Figure size 864x576 with 2 Axes>"
      ]
     },
     "metadata": {},
     "output_type": "display_data"
    }
   ],
   "source": [
    "fig = plt.figure(figsize=(12, 8))\n",
    "sample_corrs = batting_data.iloc[:, 4:14].corr()\n",
    "sns.heatmap(data=sample_corrs, vmin=-1, vmax=1)\n",
    "plt.suptitle(\"Heatmap of Features 4-14\", fontsize=20)\n",
    "plt.tight_layout()"
   ]
  },
  {
   "cell_type": "code",
   "execution_count": 34,
   "id": "c16622d1-4955-4e46-bb0f-9999e864ff44",
   "metadata": {},
   "outputs": [
    {
     "name": "stderr",
     "output_type": "stream",
     "text": [
      "100%|█████████████████████████████████████████████████████████████████████████████| 1467/1467 [00:08<00:00, 171.69it/s]\n",
      "100%|████████████████████████████████████████████████████████████████████████████████| 20/20 [00:00<00:00, 2006.75it/s]\n"
     ]
    }
   ],
   "source": [
    "batting_data = batting_data.groupby(\"IDfg\", group_keys=False).progress_apply(player_history)\n",
    "batting_data[\"hr_season\"] = batting_data.groupby(\"Season\", group_keys=False).progress_apply(group_averages)"
   ]
  },
  {
   "cell_type": "markdown",
   "id": "f2ed4a48-5de8-49da-b7c5-4990dd2ef751",
   "metadata": {},
   "source": [
    "With the line above, I created a couple of new features I thought might be useful. They basically give information about the number of home runs the year before. "
   ]
  },
  {
   "cell_type": "markdown",
   "id": "dfb3ab06-3121-4bcc-a1b0-589acee9cb69",
   "metadata": {},
   "source": [
    "# Modeling"
   ]
  },
  {
   "cell_type": "code",
   "execution_count": 35,
   "id": "51d6b280-eeea-46cd-9ada-e642f6d772ea",
   "metadata": {},
   "outputs": [],
   "source": [
    "params = {\n",
    "    \"tree_method\": \"gpu_hist\",\n",
    "    \"n_estimators\": 50,\n",
    "    \"eval_metric\": mean_squared_error,\n",
    "    \"eta\": 0.3,\n",
    "    \"max_depth\": 3,\n",
    "    \"gamma\": 15,\n",
    "    \"colsample_bytree\": 0.3\n",
    "}\n",
    "\n",
    "# notes for parameters:\n",
    "\n",
    "# tree_method - is set so that XGBoost uses the gpu\n",
    "# n_estimators - number of trees created, larger values lead to bigger MSE. [50-100] should be good.\n",
    "# eval_metric - metric to evaluate performance, I used mean squared error.\n",
    "# eta - essentially the learning rate for xgboost. 0.3 worked the best.\n",
    "# max_depth - the maximum depth a tree reaches. Lower values like 3 worked the best and prevent overfitting. \n",
    "# gamma - \"the complexity cost of adding another leaf\" works well when we have shallow trees. Higher values give lower MSE.\n",
    "# colsample_bytree - the number of columns sampled when creating a tree. 0.3 is the best. Lower or higher gives worse results."
   ]
  },
  {
   "cell_type": "code",
   "execution_count": 36,
   "id": "7f0a72fd-6f0c-4d19-97c8-ce591f092751",
   "metadata": {},
   "outputs": [],
   "source": [
    "xgb_model = XGBRegressor(**params)\n",
    "split = TimeSeriesSplit(n_splits=3)"
   ]
  },
  {
   "cell_type": "code",
   "execution_count": 37,
   "id": "8da25697-2211-4978-9118-4217ea02adf5",
   "metadata": {},
   "outputs": [],
   "source": [
    "removed_columns = [\"Next_HR\", \"Name\", \"Team\", \"IDfg\", \"Season\"]\n",
    "selected_columns = batting_data.columns[~batting_data.columns.isin(removed_columns)]"
   ]
  },
  {
   "cell_type": "code",
   "execution_count": 38,
   "id": "0a43aeed-12fa-4a8c-a5ef-baf3f4bb4bb5",
   "metadata": {
    "tags": []
   },
   "outputs": [
    {
     "data": {
      "text/plain": [
       "['Age',\n",
       " 'G',\n",
       " 'AB',\n",
       " 'PA',\n",
       " 'H',\n",
       " '1B',\n",
       " '2B',\n",
       " '3B',\n",
       " 'HR',\n",
       " 'R',\n",
       " 'RBI',\n",
       " 'BB',\n",
       " 'IBB',\n",
       " 'SO',\n",
       " 'HBP',\n",
       " 'SF',\n",
       " 'SH',\n",
       " 'GDP',\n",
       " 'SB',\n",
       " 'CS']"
      ]
     },
     "execution_count": 38,
     "metadata": {},
     "output_type": "execute_result"
    }
   ],
   "source": [
    "# getting a list of the main features\n",
    "\n",
    "#good_features = list(sorted_corrs[:25].index) + list(sorted_corrs[sorted_corrs.shape[0]-26:-1].index) + [\"hr_corr\", \"hr_season\", \"hr_corr\"]\n",
    "# main_features = list(selected_columns[selected_columns.isin(good_features)])\n",
    "main_features = list(selected_columns)\n",
    "main_features[:20]"
   ]
  },
  {
   "cell_type": "markdown",
   "id": "371be1de-d022-43fe-a0fe-17b1991c92d3",
   "metadata": {},
   "source": [
    "## Training"
   ]
  },
  {
   "cell_type": "code",
   "execution_count": 39,
   "id": "37e23586-83a3-428b-85eb-0dc6de154229",
   "metadata": {},
   "outputs": [],
   "source": [
    "good_data = batting_data[~batting_data[\"Next_HR\"].isna()]"
   ]
  },
  {
   "cell_type": "code",
   "execution_count": 40,
   "id": "33e43bdd-3ba3-428b-91d2-63cd8a8e0c08",
   "metadata": {},
   "outputs": [
    {
     "name": "stderr",
     "output_type": "stream",
     "text": [
      "100%|██████████████████████████████████████████████████████████████████████████████████| 15/15 [00:04<00:00,  3.13it/s]\n"
     ]
    }
   ],
   "source": [
    "predictions = walk_forward(good_data, xgb_model, main_features)"
   ]
  },
  {
   "cell_type": "markdown",
   "id": "9fdc78da-fd42-43c0-a379-01db6134f65c",
   "metadata": {},
   "source": [
    "# Evaluation"
   ]
  },
  {
   "cell_type": "code",
   "execution_count": 41,
   "id": "db759da0-a1a4-4191-9afe-71d21ea31168",
   "metadata": {},
   "outputs": [
    {
     "data": {
      "text/html": [
       "<div>\n",
       "<style scoped>\n",
       "    .dataframe tbody tr th:only-of-type {\n",
       "        vertical-align: middle;\n",
       "    }\n",
       "\n",
       "    .dataframe tbody tr th {\n",
       "        vertical-align: top;\n",
       "    }\n",
       "\n",
       "    .dataframe thead th {\n",
       "        text-align: right;\n",
       "    }\n",
       "</style>\n",
       "<table border=\"1\" class=\"dataframe\">\n",
       "  <thead>\n",
       "    <tr style=\"text-align: right;\">\n",
       "      <th></th>\n",
       "      <th>Actual</th>\n",
       "      <th>Prediction</th>\n",
       "    </tr>\n",
       "  </thead>\n",
       "  <tbody>\n",
       "    <tr>\n",
       "      <th>2639</th>\n",
       "      <td>3.0</td>\n",
       "      <td>3.438311</td>\n",
       "    </tr>\n",
       "    <tr>\n",
       "      <th>3469</th>\n",
       "      <td>15.0</td>\n",
       "      <td>14.469218</td>\n",
       "    </tr>\n",
       "    <tr>\n",
       "      <th>5638</th>\n",
       "      <td>1.0</td>\n",
       "      <td>1.099839</td>\n",
       "    </tr>\n",
       "    <tr>\n",
       "      <th>4897</th>\n",
       "      <td>2.0</td>\n",
       "      <td>2.586560</td>\n",
       "    </tr>\n",
       "    <tr>\n",
       "      <th>5017</th>\n",
       "      <td>4.0</td>\n",
       "      <td>2.185248</td>\n",
       "    </tr>\n",
       "    <tr>\n",
       "      <th>...</th>\n",
       "      <td>...</td>\n",
       "      <td>...</td>\n",
       "    </tr>\n",
       "    <tr>\n",
       "      <th>4540</th>\n",
       "      <td>10.0</td>\n",
       "      <td>15.593005</td>\n",
       "    </tr>\n",
       "    <tr>\n",
       "      <th>5282</th>\n",
       "      <td>10.0</td>\n",
       "      <td>10.227806</td>\n",
       "    </tr>\n",
       "    <tr>\n",
       "      <th>8050</th>\n",
       "      <td>10.0</td>\n",
       "      <td>17.497301</td>\n",
       "    </tr>\n",
       "    <tr>\n",
       "      <th>9070</th>\n",
       "      <td>10.0</td>\n",
       "      <td>7.952501</td>\n",
       "    </tr>\n",
       "    <tr>\n",
       "      <th>1076</th>\n",
       "      <td>10.0</td>\n",
       "      <td>10.392067</td>\n",
       "    </tr>\n",
       "  </tbody>\n",
       "</table>\n",
       "<p>5488 rows × 2 columns</p>\n",
       "</div>"
      ],
      "text/plain": [
       "      Actual  Prediction\n",
       "2639     3.0    3.438311\n",
       "3469    15.0   14.469218\n",
       "5638     1.0    1.099839\n",
       "4897     2.0    2.586560\n",
       "5017     4.0    2.185248\n",
       "...      ...         ...\n",
       "4540    10.0   15.593005\n",
       "5282    10.0   10.227806\n",
       "8050    10.0   17.497301\n",
       "9070    10.0    7.952501\n",
       "1076    10.0   10.392067\n",
       "\n",
       "[5488 rows x 2 columns]"
      ]
     },
     "execution_count": 41,
     "metadata": {},
     "output_type": "execute_result"
    }
   ],
   "source": [
    "predictions"
   ]
  },
  {
   "cell_type": "code",
   "execution_count": 42,
   "id": "afce48e1-e78c-4358-a346-ff42b95ecb89",
   "metadata": {},
   "outputs": [
    {
     "name": "stdout",
     "output_type": "stream",
     "text": [
      "MSE: 57.54080277963238\n"
     ]
    }
   ],
   "source": [
    "mse = mean_squared_error(predictions[\"Actual\"], predictions[\"Prediction\"])\n",
    "print(f\"MSE: {mse}\")"
   ]
  },
  {
   "cell_type": "markdown",
   "id": "aba2de1b-4bca-45a0-96f8-a3f23653a8e6",
   "metadata": {},
   "source": [
    "The mean squared error is the average of the square of all the errors. Ideally, this number would be smaller. <br>\n",
    "This number went from ~65 to the current one after a lot of XGBoost tuning. "
   ]
  },
  {
   "cell_type": "code",
   "execution_count": 43,
   "id": "ff65efc8-9b0e-46e8-a6ef-b74db3e4505d",
   "metadata": {},
   "outputs": [
    {
     "name": "stdout",
     "output_type": "stream",
     "text": [
      "Next_HR std:    9.872584952668396\n",
      "Square Root MSE: 7.585565422539863\n"
     ]
    }
   ],
   "source": [
    "print(\"Next_HR std:    {}\".format(batting_data[\"Next_HR\"].std()))\n",
    "print(f\"Square Root MSE: {np.sqrt(mse)}\")"
   ]
  },
  {
   "cell_type": "markdown",
   "id": "86cbccb3-1d06-4f61-978e-fb399143b7ce",
   "metadata": {},
   "source": [
    "This is something I like to look at. Generally, if the square root of the mean squared error is less than the standard deviation, <br>\n",
    "the model does a bit better than guessing."
   ]
  },
  {
   "cell_type": "code",
   "execution_count": 44,
   "id": "2adb15ff-19a3-479d-8463-d3f72633d659",
   "metadata": {},
   "outputs": [
    {
     "name": "stdout",
     "output_type": "stream",
     "text": [
      "R² value: 0.3816136908625992\n"
     ]
    }
   ],
   "source": [
    "r2 = r2_score(predictions[\"Actual\"], predictions[\"Prediction\"])\n",
    "print(f\"R\\u00b2 value: {r2}\")"
   ]
  },
  {
   "cell_type": "markdown",
   "id": "587aff4b-5b6a-459c-a021-912b3e727719",
   "metadata": {},
   "source": [
    "This is the R<sup>2</sup> value for the model. It basically measures how well the regression line fit the data. <br>\n",
    "We want this number to be as close to 1 as possible. 0.38 is kinda decent. Ideally, it would be higher, but it does indicate that some of the <br>\n",
    "variance is explained in our model."
   ]
  },
  {
   "cell_type": "code",
   "execution_count": 45,
   "id": "c096781e-ac69-496f-9fdd-c63d6c07bb58",
   "metadata": {},
   "outputs": [
    {
     "data": {
      "image/png": "[encoded data removed]",
      "text/plain": [
       "<Figure size 1440x1440 with 1 Axes>"
      ]
     },
     "metadata": {},
     "output_type": "display_data"
    }
   ],
   "source": [
    "plt.rcParams['figure.figsize'] = [20, 20]\n",
    "plot_importance(xgb_model, max_num_features=30)\n",
    "plt.show()"
   ]
  },
  {
   "cell_type": "markdown",
   "id": "45e7be88-675c-432e-b186-817c09cdd17b",
   "metadata": {},
   "source": [
    "One advantage of XGBoost is that we still retain a little bit of explanatory power, which is why I just used the singular model. <br>\n",
    "Age ends up being the most important factor in determing next year's home runs, which kinda makes sense. "
   ]
  },
  {
   "cell_type": "markdown",
   "id": "c5436c03-3765-4df7-a046-5c1a86ce6395",
   "metadata": {},
   "source": [
    "# Forecasting\n",
    "Now, we'll predict home runs for the 2023 season."
   ]
  },
  {
   "cell_type": "code",
   "execution_count": 46,
   "id": "62a631d6-a3f9-4ed8-b1f2-73989b687594",
   "metadata": {},
   "outputs": [
    {
     "data": {
      "text/html": [
       "<div>\n",
       "<style scoped>\n",
       "    .dataframe tbody tr th:only-of-type {\n",
       "        vertical-align: middle;\n",
       "    }\n",
       "\n",
       "    .dataframe tbody tr th {\n",
       "        vertical-align: top;\n",
       "    }\n",
       "\n",
       "    .dataframe thead th {\n",
       "        text-align: right;\n",
       "    }\n",
       "</style>\n",
       "<table border=\"1\" class=\"dataframe\">\n",
       "  <thead>\n",
       "    <tr style=\"text-align: right;\">\n",
       "      <th></th>\n",
       "      <th>IDfg</th>\n",
       "      <th>Season</th>\n",
       "      <th>Name</th>\n",
       "      <th>Team</th>\n",
       "      <th>Age</th>\n",
       "      <th>G</th>\n",
       "      <th>AB</th>\n",
       "      <th>PA</th>\n",
       "      <th>H</th>\n",
       "      <th>1B</th>\n",
       "      <th>...</th>\n",
       "      <th>Events</th>\n",
       "      <th>CStr%</th>\n",
       "      <th>CSW%</th>\n",
       "      <th>L-WAR</th>\n",
       "      <th>Next_HR</th>\n",
       "      <th>team_enc</th>\n",
       "      <th>player_season</th>\n",
       "      <th>hr_corr</th>\n",
       "      <th>hr_diff</th>\n",
       "      <th>hr_season</th>\n",
       "    </tr>\n",
       "  </thead>\n",
       "  <tbody>\n",
       "    <tr>\n",
       "      <th>2800</th>\n",
       "      <td>1177</td>\n",
       "      <td>2022</td>\n",
       "      <td>Albert Pujols</td>\n",
       "      <td>STL</td>\n",
       "      <td>42</td>\n",
       "      <td>109</td>\n",
       "      <td>307</td>\n",
       "      <td>351</td>\n",
       "      <td>83</td>\n",
       "      <td>45</td>\n",
       "      <td>...</td>\n",
       "      <td>258</td>\n",
       "      <td>0.165</td>\n",
       "      <td>0.258</td>\n",
       "      <td>1.9</td>\n",
       "      <td>10.0</td>\n",
       "      <td>29</td>\n",
       "      <td>19</td>\n",
       "      <td>-0.747612</td>\n",
       "      <td>1.411765</td>\n",
       "      <td>1.999092</td>\n",
       "    </tr>\n",
       "    <tr>\n",
       "      <th>9113</th>\n",
       "      <td>1744</td>\n",
       "      <td>2022</td>\n",
       "      <td>Miguel Cabrera</td>\n",
       "      <td>DET</td>\n",
       "      <td>39</td>\n",
       "      <td>112</td>\n",
       "      <td>397</td>\n",
       "      <td>433</td>\n",
       "      <td>101</td>\n",
       "      <td>86</td>\n",
       "      <td>...</td>\n",
       "      <td>301</td>\n",
       "      <td>0.149</td>\n",
       "      <td>0.270</td>\n",
       "      <td>-1.4</td>\n",
       "      <td>10.0</td>\n",
       "      <td>11</td>\n",
       "      <td>18</td>\n",
       "      <td>-0.492298</td>\n",
       "      <td>0.333333</td>\n",
       "      <td>0.416478</td>\n",
       "    </tr>\n",
       "    <tr>\n",
       "      <th>3047</th>\n",
       "      <td>2136</td>\n",
       "      <td>2022</td>\n",
       "      <td>David Peralta</td>\n",
       "      <td>- - -</td>\n",
       "      <td>34</td>\n",
       "      <td>134</td>\n",
       "      <td>439</td>\n",
       "      <td>490</td>\n",
       "      <td>110</td>\n",
       "      <td>65</td>\n",
       "      <td>...</td>\n",
       "      <td>331</td>\n",
       "      <td>0.149</td>\n",
       "      <td>0.273</td>\n",
       "      <td>1.0</td>\n",
       "      <td>10.0</td>\n",
       "      <td>0</td>\n",
       "      <td>7</td>\n",
       "      <td>0.084704</td>\n",
       "      <td>1.500000</td>\n",
       "      <td>0.999546</td>\n",
       "    </tr>\n",
       "    <tr>\n",
       "      <th>4314</th>\n",
       "      <td>2396</td>\n",
       "      <td>2022</td>\n",
       "      <td>Carlos Santana</td>\n",
       "      <td>- - -</td>\n",
       "      <td>36</td>\n",
       "      <td>131</td>\n",
       "      <td>431</td>\n",
       "      <td>506</td>\n",
       "      <td>87</td>\n",
       "      <td>50</td>\n",
       "      <td>...</td>\n",
       "      <td>345</td>\n",
       "      <td>0.177</td>\n",
       "      <td>0.260</td>\n",
       "      <td>1.0</td>\n",
       "      <td>10.0</td>\n",
       "      <td>0</td>\n",
       "      <td>11</td>\n",
       "      <td>0.339675</td>\n",
       "      <td>1.000000</td>\n",
       "      <td>1.582615</td>\n",
       "    </tr>\n",
       "    <tr>\n",
       "      <th>8600</th>\n",
       "      <td>2434</td>\n",
       "      <td>2022</td>\n",
       "      <td>Nelson Cruz</td>\n",
       "      <td>WSN</td>\n",
       "      <td>41</td>\n",
       "      <td>124</td>\n",
       "      <td>448</td>\n",
       "      <td>507</td>\n",
       "      <td>105</td>\n",
       "      <td>79</td>\n",
       "      <td>...</td>\n",
       "      <td>335</td>\n",
       "      <td>0.127</td>\n",
       "      <td>0.277</td>\n",
       "      <td>-0.9</td>\n",
       "      <td>10.0</td>\n",
       "      <td>34</td>\n",
       "      <td>15</td>\n",
       "      <td>0.538087</td>\n",
       "      <td>0.312500</td>\n",
       "      <td>0.832955</td>\n",
       "    </tr>\n",
       "    <tr>\n",
       "      <th>...</th>\n",
       "      <td>...</td>\n",
       "      <td>...</td>\n",
       "      <td>...</td>\n",
       "      <td>...</td>\n",
       "      <td>...</td>\n",
       "      <td>...</td>\n",
       "      <td>...</td>\n",
       "      <td>...</td>\n",
       "      <td>...</td>\n",
       "      <td>...</td>\n",
       "      <td>...</td>\n",
       "      <td>...</td>\n",
       "      <td>...</td>\n",
       "      <td>...</td>\n",
       "      <td>...</td>\n",
       "      <td>...</td>\n",
       "      <td>...</td>\n",
       "      <td>...</td>\n",
       "      <td>...</td>\n",
       "      <td>...</td>\n",
       "      <td>...</td>\n",
       "    </tr>\n",
       "    <tr>\n",
       "      <th>4540</th>\n",
       "      <td>24618</td>\n",
       "      <td>2022</td>\n",
       "      <td>Ryan Jeffers</td>\n",
       "      <td>MIN</td>\n",
       "      <td>25</td>\n",
       "      <td>67</td>\n",
       "      <td>212</td>\n",
       "      <td>236</td>\n",
       "      <td>44</td>\n",
       "      <td>26</td>\n",
       "      <td>...</td>\n",
       "      <td>151</td>\n",
       "      <td>0.179</td>\n",
       "      <td>0.273</td>\n",
       "      <td>0.9</td>\n",
       "      <td>10.0</td>\n",
       "      <td>19</td>\n",
       "      <td>1</td>\n",
       "      <td>-1.000000</td>\n",
       "      <td>0.500000</td>\n",
       "      <td>0.583069</td>\n",
       "    </tr>\n",
       "    <tr>\n",
       "      <th>5282</th>\n",
       "      <td>24655</td>\n",
       "      <td>2022</td>\n",
       "      <td>Owen Miller</td>\n",
       "      <td>CLE</td>\n",
       "      <td>25</td>\n",
       "      <td>130</td>\n",
       "      <td>424</td>\n",
       "      <td>472</td>\n",
       "      <td>103</td>\n",
       "      <td>70</td>\n",
       "      <td>...</td>\n",
       "      <td>340</td>\n",
       "      <td>0.188</td>\n",
       "      <td>0.266</td>\n",
       "      <td>-0.1</td>\n",
       "      <td>10.0</td>\n",
       "      <td>9</td>\n",
       "      <td>1</td>\n",
       "      <td>1.000000</td>\n",
       "      <td>1.500000</td>\n",
       "      <td>0.499773</td>\n",
       "    </tr>\n",
       "    <tr>\n",
       "      <th>8050</th>\n",
       "      <td>26197</td>\n",
       "      <td>2022</td>\n",
       "      <td>Andrew Vaughn</td>\n",
       "      <td>CHW</td>\n",
       "      <td>24</td>\n",
       "      <td>134</td>\n",
       "      <td>510</td>\n",
       "      <td>555</td>\n",
       "      <td>138</td>\n",
       "      <td>92</td>\n",
       "      <td>...</td>\n",
       "      <td>419</td>\n",
       "      <td>0.201</td>\n",
       "      <td>0.291</td>\n",
       "      <td>0.4</td>\n",
       "      <td>10.0</td>\n",
       "      <td>7</td>\n",
       "      <td>1</td>\n",
       "      <td>1.000000</td>\n",
       "      <td>1.133333</td>\n",
       "      <td>1.416024</td>\n",
       "    </tr>\n",
       "    <tr>\n",
       "      <th>9070</th>\n",
       "      <td>27459</td>\n",
       "      <td>2022</td>\n",
       "      <td>Yoshi Tsutsugo</td>\n",
       "      <td>PIT</td>\n",
       "      <td>30</td>\n",
       "      <td>50</td>\n",
       "      <td>170</td>\n",
       "      <td>193</td>\n",
       "      <td>29</td>\n",
       "      <td>23</td>\n",
       "      <td>...</td>\n",
       "      <td>124</td>\n",
       "      <td>0.181</td>\n",
       "      <td>0.267</td>\n",
       "      <td>-1.5</td>\n",
       "      <td>10.0</td>\n",
       "      <td>25</td>\n",
       "      <td>1</td>\n",
       "      <td>-1.000000</td>\n",
       "      <td>0.250000</td>\n",
       "      <td>0.166591</td>\n",
       "    </tr>\n",
       "    <tr>\n",
       "      <th>1076</th>\n",
       "      <td>27506</td>\n",
       "      <td>2022</td>\n",
       "      <td>Ha-seong Kim</td>\n",
       "      <td>SDP</td>\n",
       "      <td>26</td>\n",
       "      <td>150</td>\n",
       "      <td>517</td>\n",
       "      <td>582</td>\n",
       "      <td>130</td>\n",
       "      <td>87</td>\n",
       "      <td>...</td>\n",
       "      <td>424</td>\n",
       "      <td>0.205</td>\n",
       "      <td>0.276</td>\n",
       "      <td>4.0</td>\n",
       "      <td>10.0</td>\n",
       "      <td>26</td>\n",
       "      <td>1</td>\n",
       "      <td>1.000000</td>\n",
       "      <td>1.375000</td>\n",
       "      <td>0.916251</td>\n",
       "    </tr>\n",
       "  </tbody>\n",
       "</table>\n",
       "<p>367 rows × 236 columns</p>\n",
       "</div>"
      ],
      "text/plain": [
       "       IDfg  Season            Name   Team  Age    G   AB   PA    H  1B  ...  \\\n",
       "2800   1177    2022   Albert Pujols    STL   42  109  307  351   83  45  ...   \n",
       "9113   1744    2022  Miguel Cabrera    DET   39  112  397  433  101  86  ...   \n",
       "3047   2136    2022   David Peralta  - - -   34  134  439  490  110  65  ...   \n",
       "4314   2396    2022  Carlos Santana  - - -   36  131  431  506   87  50  ...   \n",
       "8600   2434    2022     Nelson Cruz    WSN   41  124  448  507  105  79  ...   \n",
       "...     ...     ...             ...    ...  ...  ...  ...  ...  ...  ..  ...   \n",
       "4540  24618    2022    Ryan Jeffers    MIN   25   67  212  236   44  26  ...   \n",
       "5282  24655    2022     Owen Miller    CLE   25  130  424  472  103  70  ...   \n",
       "8050  26197    2022   Andrew Vaughn    CHW   24  134  510  555  138  92  ...   \n",
       "9070  27459    2022  Yoshi Tsutsugo    PIT   30   50  170  193   29  23  ...   \n",
       "1076  27506    2022    Ha-seong Kim    SDP   26  150  517  582  130  87  ...   \n",
       "\n",
       "      Events  CStr%   CSW%  L-WAR  Next_HR  team_enc  player_season   hr_corr  \\\n",
       "2800     258  0.165  0.258    1.9     10.0        29             19 -0.747612   \n",
       "9113     301  0.149  0.270   -1.4     10.0        11             18 -0.492298   \n",
       "3047     331  0.149  0.273    1.0     10.0         0              7  0.084704   \n",
       "4314     345  0.177  0.260    1.0     10.0         0             11  0.339675   \n",
       "8600     335  0.127  0.277   -0.9     10.0        34             15  0.538087   \n",
       "...      ...    ...    ...    ...      ...       ...            ...       ...   \n",
       "4540     151  0.179  0.273    0.9     10.0        19              1 -1.000000   \n",
       "5282     340  0.188  0.266   -0.1     10.0         9              1  1.000000   \n",
       "8050     419  0.201  0.291    0.4     10.0         7              1  1.000000   \n",
       "9070     124  0.181  0.267   -1.5     10.0        25              1 -1.000000   \n",
       "1076     424  0.205  0.276    4.0     10.0        26              1  1.000000   \n",
       "\n",
       "       hr_diff  hr_season  \n",
       "2800  1.411765   1.999092  \n",
       "9113  0.333333   0.416478  \n",
       "3047  1.500000   0.999546  \n",
       "4314  1.000000   1.582615  \n",
       "8600  0.312500   0.832955  \n",
       "...        ...        ...  \n",
       "4540  0.500000   0.583069  \n",
       "5282  1.500000   0.499773  \n",
       "8050  1.133333   1.416024  \n",
       "9070  0.250000   0.166591  \n",
       "1076  1.375000   0.916251  \n",
       "\n",
       "[367 rows x 236 columns]"
      ]
     },
     "execution_count": 46,
     "metadata": {},
     "output_type": "execute_result"
    }
   ],
   "source": [
    "players_2022 = batting_data[batting_data[\"Season\"] == 2022]\n",
    "players_2022"
   ]
  },
  {
   "cell_type": "markdown",
   "id": "d17d9cc3-02f6-41bb-ae92-dc2e480c78fe",
   "metadata": {},
   "source": [
    "## MLB Leaderboard"
   ]
  },
  {
   "cell_type": "code",
   "execution_count": 47,
   "id": "d8e6f8fe-b68f-4ec6-b736-fb6aa58edce5",
   "metadata": {
    "tags": []
   },
   "outputs": [],
   "source": [
    "mlb_preds = xgb_model.predict(players_2022[main_features])\n",
    "mlb_preds = pd.Series(mlb_preds, index=players_2022.index)\n",
    "\n",
    "# have to round because it predicts a decimal number of homeruns\n",
    "mlb_preds = mlb_preds.apply(round)\n",
    "mlb_leaderboard = pd.concat([players_2022[\"Name\"], mlb_preds], axis=1)\n",
    "mlb_leaderboard.columns = [\"Player\", \"HR_Pred\"]\n",
    "\n",
    "mlb_leaderboard = mlb_leaderboard.sort_values(\"HR_Pred\", ascending=False)"
   ]
  },
  {
   "cell_type": "code",
   "execution_count": 48,
   "id": "7a0ae59a-c113-436c-8c49-8aace7787df5",
   "metadata": {},
   "outputs": [
    {
     "data": {
      "text/html": [
       "<div>\n",
       "<style scoped>\n",
       "    .dataframe tbody tr th:only-of-type {\n",
       "        vertical-align: middle;\n",
       "    }\n",
       "\n",
       "    .dataframe tbody tr th {\n",
       "        vertical-align: top;\n",
       "    }\n",
       "\n",
       "    .dataframe thead th {\n",
       "        text-align: right;\n",
       "    }\n",
       "</style>\n",
       "<table border=\"1\" class=\"dataframe\">\n",
       "  <thead>\n",
       "    <tr style=\"text-align: right;\">\n",
       "      <th></th>\n",
       "      <th>Player</th>\n",
       "      <th>HR_Pred</th>\n",
       "    </tr>\n",
       "  </thead>\n",
       "  <tbody>\n",
       "    <tr>\n",
       "      <th>330</th>\n",
       "      <td>Austin Riley</td>\n",
       "      <td>35</td>\n",
       "    </tr>\n",
       "    <tr>\n",
       "      <th>963</th>\n",
       "      <td>Shohei Ohtani</td>\n",
       "      <td>35</td>\n",
       "    </tr>\n",
       "    <tr>\n",
       "      <th>1861</th>\n",
       "      <td>Kyle Schwarber</td>\n",
       "      <td>34</td>\n",
       "    </tr>\n",
       "    <tr>\n",
       "      <th>1666</th>\n",
       "      <td>Vladimir Guerrero Jr.</td>\n",
       "      <td>34</td>\n",
       "    </tr>\n",
       "    <tr>\n",
       "      <th>2</th>\n",
       "      <td>Aaron Judge</td>\n",
       "      <td>33</td>\n",
       "    </tr>\n",
       "    <tr>\n",
       "      <th>853</th>\n",
       "      <td>Pete Alonso</td>\n",
       "      <td>32</td>\n",
       "    </tr>\n",
       "    <tr>\n",
       "      <th>213</th>\n",
       "      <td>Mike Trout</td>\n",
       "      <td>31</td>\n",
       "    </tr>\n",
       "    <tr>\n",
       "      <th>681</th>\n",
       "      <td>Carlos Correa</td>\n",
       "      <td>29</td>\n",
       "    </tr>\n",
       "    <tr>\n",
       "      <th>3206</th>\n",
       "      <td>Ryan Mountcastle</td>\n",
       "      <td>28</td>\n",
       "    </tr>\n",
       "    <tr>\n",
       "      <th>1448</th>\n",
       "      <td>Matt Olson</td>\n",
       "      <td>28</td>\n",
       "    </tr>\n",
       "  </tbody>\n",
       "</table>\n",
       "</div>"
      ],
      "text/plain": [
       "                     Player  HR_Pred\n",
       "330            Austin Riley       35\n",
       "963           Shohei Ohtani       35\n",
       "1861         Kyle Schwarber       34\n",
       "1666  Vladimir Guerrero Jr.       34\n",
       "2               Aaron Judge       33\n",
       "853             Pete Alonso       32\n",
       "213              Mike Trout       31\n",
       "681           Carlos Correa       29\n",
       "3206       Ryan Mountcastle       28\n",
       "1448             Matt Olson       28"
      ]
     },
     "execution_count": 48,
     "metadata": {},
     "output_type": "execute_result"
    }
   ],
   "source": [
    "mlb_leaderboard.iloc[:10].to_csv(\"mlb_homerun_leaderboard.csv\", index=False)\n",
    "mlb_leaderboard.head(10)"
   ]
  },
  {
   "cell_type": "markdown",
   "id": "a06ad40d-083b-4746-86d1-2c46f442338d",
   "metadata": {},
   "source": [
    "Honestly, it's not a bad list. Pretty much all of these guys are power hitters, and I think nobody would be surprised if Shohei or Riley were the home run leader next season. <br>\n",
    "I do think it falls short in the predicted number of home runs. Generally, I think this would be a bit higher for the leaders, but\n",
    "it is hard for the model to get the outliers correct."
   ]
  },
  {
   "cell_type": "markdown",
   "id": "e97a937a-5d4d-41d6-bcb1-200363d6cbab",
   "metadata": {},
   "source": [
    "# Future Work"
   ]
  },
  {
   "cell_type": "markdown",
   "id": "c870f453-bb7f-4e73-aaf9-d7d951bc2023",
   "metadata": {},
   "source": [
    "1. Dealing with Outliers / Model Structure\n",
    "        Ideally, the goal of the model would be to correctly predict the outliers (players who are going to hit a large number of homeruns).\n",
    "        As it is, the model barely does a decent job of predicting the majority correctly. One thing that might help would be to structure \n",
    "        the problem as a classification problem and classify whether or not a player will hit a small, normal, or large number of homeruns. \n",
    "        Then we can have separate models for predicting the actual numbers within those subclasses. \n",
    "\n",
    "\n",
    "2. Multicollinearity\n",
    "        Another problem that's tough to deal with is the multicollinearity issue. XGBoost, in a way, handles this for us since it is a \n",
    "        tree based algorithm. However, it would still be really beneficial to do some more sophisticated feature reduction/selection. \n",
    "\n",
    "\n",
    "3. Explainable or Not\n",
    "        One of the focuses for this model was to retain some type of explainability so that we can have a reason as to why we think \n",
    "        some of these players are going to do well. We can simply throw this idea out the window if we want to focus on pure performance. \n",
    "        This opens up PCA, ensembling, and possibly neural networks (that'll probably be overkill, but it's still an idea). \n",
    "        \n",
    "        "
   ]
  }
 ],
 "metadata": {
  "kernelspec": {
   "display_name": "Python 3 (ipykernel)",
   "language": "python",
   "name": "python3"
  },
  "language_info": {
   "codemirror_mode": {
    "name": "ipython",
    "version": 3
   },
   "file_extension": ".py",
   "mimetype": "text/x-python",
   "name": "python",
   "nbconvert_exporter": "python",
   "pygments_lexer": "ipython3",
   "version": "3.9.12"
  }
 },
 "nbformat": 4,
 "nbformat_minor": 5
}
